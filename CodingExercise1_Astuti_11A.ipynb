{
  "nbformat": 4,
  "nbformat_minor": 0,
  "metadata": {
    "colab": {
      "name": "CodingExercise1_Astuti_11A.ipynb",
      "provenance": [],
      "collapsed_sections": [],
      "authorship_tag": "ABX9TyMt0I7+Ok9pGiW0/snfybrV",
      "include_colab_link": true
    },
    "kernelspec": {
      "name": "python3",
      "display_name": "Python 3"
    },
    "language_info": {
      "name": "python"
    }
  },
  "cells": [
    {
      "cell_type": "markdown",
      "metadata": {
        "id": "view-in-github",
        "colab_type": "text"
      },
      "source": [
        "<a href=\"https://colab.research.google.com/github/asthypan/final_project/blob/main/CodingExercise1_Astuti_11A.ipynb\" target=\"_parent\"><img src=\"https://colab.research.google.com/assets/colab-badge.svg\" alt=\"Open In Colab\"/></a>"
      ]
    },
    {
      "cell_type": "markdown",
      "source": [
        "**Astuti Pangestu - Data Science 11A**\n",
        "\n",
        "Coding Exercise 1: Looping & Modulo"
      ],
      "metadata": {
        "id": "AtpTcYmWODW6"
      }
    },
    {
      "cell_type": "markdown",
      "source": [
        "**Soal 1**\n",
        "\n",
        "Print out integers which are multiples of 3 from 1 to 22. (Print out bilangan bulat yang merupakan kelipatan 3 dari 1 sampai 22).\n",
        "\n",
        "Ekspektasi jawaban:\n",
        "\n",
        "Ketika kode kalian di-run, muncul angka-angka: 3, 6, 9, 12, 15, 18, 21. Gunakan looping."
      ],
      "metadata": {
        "id": "aZNocicLy4hz"
      }
    },
    {
      "cell_type": "code",
      "execution_count": 42,
      "metadata": {
        "colab": {
          "base_uri": "https://localhost:8080/"
        },
        "id": "HqaTDm9cweDx",
        "outputId": "24d15e41-4146-45dd-bfe3-3c28a3afa11b"
      },
      "outputs": [
        {
          "output_type": "stream",
          "name": "stdout",
          "text": [
            "Print out integers which are multiples of 3 from 1 to 22\n",
            "Please, input the first number :1\n",
            "Then, input the last number :22\n",
            "Then, input the multiple number :3\n",
            "So, the multiples of 3 from 1 to 22 are: \n",
            "3\n",
            "6\n",
            "9\n",
            "12\n",
            "15\n",
            "18\n",
            "21\n"
          ]
        }
      ],
      "source": [
        "print('Print out integers which are multiples of 3 from 1 to 22');\n",
        "a = int(input('Please, input the first number :'));\n",
        "b = int(input('Then, input the last number :'));\n",
        "c = int(input('Then, input the multiple number :'));\n",
        "print ('So, the multiples of', c, 'from', a, 'to', b, 'are: ');\n",
        "for number in range(a*c,b+1,c):\n",
        "    print(number)"
      ]
    },
    {
      "cell_type": "code",
      "source": [
        ""
      ],
      "metadata": {
        "id": "y1FijaqoGxy7"
      },
      "execution_count": null,
      "outputs": []
    },
    {
      "cell_type": "markdown",
      "source": [
        "**Soal 2:**\n",
        "\n",
        "Buat sebuah function di Python untuk mengecek apakah sebuah angka merupakan bilangan prima atau bukan.\n",
        "\n",
        "Ekspektasi jawaban:\n",
        "\n",
        "misal fungsi Anda bernama prime_check. Ketika kita jalankan prime_check(5), maka outputnya adalah '5 is a Prime number'. Fungsi ini harus bisa berlaku untuk input apa pun.\n",
        "\n",
        "Clue: Pengecekan bilangan prima menggunakan looping dan modulo.\n",
        "\n",
        "print('Hasil dari 5 modulo 2 adalah',5 % 2)  \n",
        "5 Modulo 2 sama dengan 1. Artinya, 5 dibagi 2, sisanya 1 \n",
        "\n",
        "print('Hasil dari 6 modulo 3 adalah', 6 % 3)\n",
        "6 Modulo 3 sama dengan 0. Artinya 6 dibagi 3, sisanya 0. *italicized text*\n",
        "Selamat mengerjakan!"
      ],
      "metadata": {
        "id": "bn3EMTng0_uM"
      }
    },
    {
      "cell_type": "code",
      "source": [
        "print ('Cek Bilangan Prima dengan menggunakan Python');\n",
        "angka = int(input(\"Cek angka: \"))\n",
        "\n",
        "flag = False\n",
        "\n",
        "if angka > 1:\n",
        "    for x in range(2, angka):\n",
        "        if (angka % x) == 0:\n",
        "            flag = True\n",
        "            break\n",
        "\n",
        "if flag:\n",
        "    print(\"Angka\", angka, \"bukan bilangan prima.\")\n",
        "else:\n",
        "    print(\"Angka\", angka, \"merupakan bilangan prima.\")"
      ],
      "metadata": {
        "colab": {
          "base_uri": "https://localhost:8080/"
        },
        "id": "6RZ43uMiHyr4",
        "outputId": "dae2fcc4-f41e-4e9a-cc8e-2848e9dfebf6"
      },
      "execution_count": 44,
      "outputs": [
        {
          "output_type": "stream",
          "name": "stdout",
          "text": [
            "Cek Bilangan Prima dengan menggunakan Python\n",
            "Cek angka: 3\n",
            "Angka 3 merupakan bilangan prima.\n"
          ]
        }
      ]
    },
    {
      "cell_type": "markdown",
      "source": [
        "*Mohon feedback-nya ya. Terima kasih.*"
      ],
      "metadata": {
        "id": "AojlqK2gSkFq"
      }
    }
  ]
}